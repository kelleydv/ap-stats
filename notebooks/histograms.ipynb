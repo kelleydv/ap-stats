{
 "cells": [
  {
   "cell_type": "code",
   "execution_count": 2,
   "metadata": {
    "collapsed": false
   },
   "outputs": [],
   "source": [
    "%matplotlib inline\n",
    "\n",
    "import matplotlib\n",
    "import numpy as np\n",
    "import pandas as pd\n",
    "import matplotlib.pyplot as plt\n",
    "import seaborn as sns"
   ]
  },
  {
   "cell_type": "code",
   "execution_count": 11,
   "metadata": {
    "collapsed": false
   },
   "outputs": [
    {
     "name": "stdout",
     "output_type": "stream",
     "text": [
      "                         BRAND  Sugar %\n",
      "0                     All Bran     20.0\n",
      "1                   Alpha Bits     40.3\n",
      "2                  Apple Jacks     55.0\n",
      "3                     Booberry     45.7\n",
      "4                    Bran Buds     30.2\n",
      "5                 Cap'n Crunch     43.3\n",
      "6                     Cheerios      2.2\n",
      "7              Cinnamon Crunch     50.3\n",
      "8               Cocoa Krispies     45.9\n",
      "9                Cocoa Pebbles     53.5\n",
      "10                 Cocoa Puffs     43.0\n",
      "11                   Corn Chex      7.5\n",
      "12                  Corn Total      4.4\n",
      "13               Count Chocula     44.2\n",
      "14        Fortified Oat Flakes     22.2\n",
      "15                Frankenberry     44.0\n",
      "16                 Froot Loops     47.4\n",
      "17              Frosted Flakes     44.0\n",
      "18         Frosted Mini-Wheats     33.6\n",
      "19               Fruit Pebbles     55.1\n",
      "20                     Granola     16.6\n",
      "21          Granola with Dates     14.5\n",
      "22        Granola with Raisins     14.5\n",
      "23        Granola With Almonds     21.4\n",
      "24            Grape Nut Flakes      3.3\n",
      "25                  Grape Nuts      6.6\n",
      "26                   Honeycomb     48.8\n",
      "27       Kellogg's Corn Flakes      7.8\n",
      "28        Kellogg's Rasin Bran     10.6\n",
      "29   Kellogg's 40% Bran Flakes     16.2\n",
      "30                        Life     14.5\n",
      "31                Lucky Charms     50.4\n",
      "32               Post Toasties      4.1\n",
      "33        Post 40% Bran Flakes     15.8\n",
      "34                  Product 19      4.1\n",
      "35                 Puffed Rice      2.4\n",
      "36                Puffed Wheat      3.5\n",
      "37                   Rice Chex      8.5\n",
      "38               Rice Krispies     10.0\n",
      "39              Shredded Wheat      1.0\n",
      "40                   Special K      4.4\n",
      "41  Spoon Sized Shredded Wheat      1.3\n",
      "42        Sugar Frosted Flakes     15.6\n",
      "43                  Sugar Pops     37.8\n",
      "44                Sugar Smacks     60.3\n",
      "45                       Total      8.1\n",
      "46                        Trix     46.6\n",
      "47                    Wheaties      4.7\n",
      "48                   100% Bran     18.4\n"
     ]
    }
   ],
   "source": [
    "data = pd.read_csv('../../Downloads/CSV/Ch04_Cereals.csv') #load csv data with a relative path\n",
    "data #display the dataframe"
   ]
  },
  {
   "cell_type": "code",
   "execution_count": 20,
   "metadata": {
    "collapsed": false
   },
   "outputs": [
    {
     "data": {
      "text/plain": [
       "<matplotlib.text.Text at 0x7f156f2d0da0>"
      ]
     },
     "execution_count": 20,
     "metadata": {},
     "output_type": "execute_result"
    },
    {
     "data": {
      "image/png": "[encoded data removed]",
      "text/plain": [
       "<matplotlib.figure.Figure at 0x7f156f3a5c50>"
      ]
     },
     "metadata": {},
     "output_type": "display_data"
    }
   ],
   "source": [
    "sns.distplot(data['Sugar %'], bins=6).set_title('Distribution of Sugar in Cereal')"
   ]
  },
  {
   "cell_type": "markdown",
   "metadata": {},
   "source": [
    "The *Distribution of Sugar in Cereal* is bimodal with a mode somewhere around 10% and a mode around 45%."
   ]
  },
  {
   "cell_type": "code",
   "execution_count": 25,
   "metadata": {
    "collapsed": false
   },
   "outputs": [
    {
     "name": "stdout",
     "output_type": "stream",
     "text": [
      "Sugar %    16.6\n",
      "dtype: float64\n",
      "Sugar %    7.5\n",
      "dtype: float64\n",
      "Sugar %    44\n",
      "dtype: float64\n"
     ]
    }
   ],
   "source": [
    "q2 = data.median\n",
    "print(data.median())\n",
    "print(data.quantile(q=0.25))\n",
    "print(data.quantile(q=0.75))"
   ]
  }
 ],
 "metadata": {
  "kernelspec": {
   "display_name": "Python 3",
   "language": "python",
   "name": "python3"
  },
  "language_info": {
   "codemirror_mode": {
    "name": "ipython",
    "version": 3
   },
   "file_extension": ".py",
   "mimetype": "text/x-python",
   "name": "python",
   "nbconvert_exporter": "python",
   "pygments_lexer": "ipython3",
   "version": "3.4.3+"
  }
 },
 "nbformat": 4,
 "nbformat_minor": 0
}
